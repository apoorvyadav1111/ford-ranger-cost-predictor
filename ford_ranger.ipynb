{
  "nbformat": 4,
  "nbformat_minor": 0,
  "metadata": {
    "colab": {
      "provenance": []
    },
    "kernelspec": {
      "name": "python3",
      "display_name": "Python 3"
    },
    "language_info": {
      "name": "python"
    }
  },
  "cells": [
    {
      "cell_type": "markdown",
      "source": [
        "# Assignment-I\n",
        "\n",
        "## Univariate Linear Regression\n",
        "year vs min price and year vs max price\n"
      ],
      "metadata": {
        "id": "oAm3uDK3b9Sa"
      }
    },
    {
      "cell_type": "code",
      "execution_count": null,
      "metadata": {
        "id": "YUm4C5f6a_wt"
      },
      "outputs": [],
      "source": [
        "#library imports\n",
        "import pandas as pd\n",
        "import numpy as np\n",
        "import torch\n",
        "import matplotlib.pyplot as plt\n",
        "import random"
      ]
    },
    {
      "cell_type": "code",
      "source": [
        "# getting the data from the csv file\n",
        "def get_data(label):\n",
        "  df = pd.read_csv(\"ford_ranger.csv\")\n",
        "  X = torch.from_numpy(df[\"year\"].to_numpy()).unsqueeze(1).float()\n",
        "  Y = torch.from_numpy(df[label].to_numpy()).unsqueeze(1).float()\n",
        "  return X,Y\n"
      ],
      "metadata": {
        "id": "ikRN0Nfcb8l_"
      },
      "execution_count": null,
      "outputs": []
    },
    {
      "cell_type": "markdown",
      "source": [
        "### Lets try to visualize the data"
      ],
      "metadata": {
        "id": "D9vP4f9gfTMG"
      }
    },
    {
      "cell_type": "code",
      "source": [
        "X,Y_min = get_data('min_price')\n",
        "X,Y_max = get_data('max_price')"
      ],
      "metadata": {
        "id": "juj4holFcthl"
      },
      "execution_count": null,
      "outputs": []
    },
    {
      "cell_type": "code",
      "source": [
        "plt.scatter(x=X[:, (0)].detach().numpy(),y=Y_min.detach().numpy(),c='b',s=10, label='Min Price')\n",
        "plt.scatter(x=X[:, (0)].detach().numpy(),y=Y_max.detach().numpy(),c='r',s=10, label='Max Price')\n",
        "plt.legend()\n",
        "plt.xlabel('Year')\n",
        "plt.ylabel('Price ($)')\n",
        "plt.title('Ford Ranger Price over the years')\n",
        "plt.show()"
      ],
      "metadata": {
        "colab": {
          "base_uri": "https://localhost:8080/",
          "height": 295
        },
        "id": "vejYEmvPdZwi",
        "outputId": "a21f05be-0369-4d41-caf1-4e8b0bc4f1b8"
      },
      "execution_count": null,
      "outputs": [
        {
          "output_type": "display_data",
          "data": {
            "text/plain": [
              "<Figure size 432x288 with 1 Axes>"
            ],
            "image/png": "[encoded data removed]"
          },
          "metadata": {
            "needs_background": "light"
          }
        }
      ]
    },
    {
      "cell_type": "markdown",
      "source": [
        "## Using Following functions from Professor's Notebook as reference"
      ],
      "metadata": {
        "id": "JgzMHVgJt7BZ"
      }
    },
    {
      "cell_type": "code",
      "source": [
        "# forward pass\n",
        "def linreg(X, theta_1, theta_0):\n",
        "  \"\"\"The linear regression model.\"\"\"\n",
        "  y_pred = torch.matmul(X, theta_1) + theta_0\n",
        "  return y_pred"
      ],
      "metadata": {
        "id": "Nla7U8q_hvao"
      },
      "execution_count": null,
      "outputs": []
    },
    {
      "cell_type": "code",
      "source": [
        "# Computing the MSE\n",
        "def MSE_loss(y_out, y_true):\n",
        "  \"\"\"Squared loss.\"\"\"\n",
        "  return (y_out - y_true.reshape(y_out.shape))**2 / 2"
      ],
      "metadata": {
        "id": "xAc9MoHhiKOf"
      },
      "execution_count": null,
      "outputs": []
    },
    {
      "cell_type": "code",
      "source": [
        "# defining the learning algorithm\n",
        "def sgd(params, lr,batch_size):\n",
        "  \"\"\"stochastic gradient descent.\"\"\"\n",
        "  with torch.no_grad():\n",
        "    for param in params:\n",
        "      param -= lr * param.grad/batch_size\n",
        "      param.grad.zero_()"
      ],
      "metadata": {
        "id": "pkDhmOL8k_kl"
      },
      "execution_count": null,
      "outputs": []
    },
    {
      "cell_type": "markdown",
      "source": [
        "## TASK 1: Min Price Prediction without scaling\n",
        "we need theta_0 and theta_1\n",
        "\n",
        "F(x) = theta_0 + theta_1*x"
      ],
      "metadata": {
        "id": "1UmbvqBnuA93"
      }
    },
    {
      "cell_type": "code",
      "source": [
        "# Initialing our parameters\n",
        "Theta_1 = torch.normal(0, 0.01, size=(1, 1), requires_grad=True)\n",
        "Theta_0 = torch.zeros(1, requires_grad=True)"
      ],
      "metadata": {
        "id": "YowKZBpkeWpt"
      },
      "execution_count": null,
      "outputs": []
    },
    {
      "cell_type": "code",
      "source": [
        "print(\"Initial Theta Values\")\n",
        "print(Theta_0, Theta_1)"
      ],
      "metadata": {
        "colab": {
          "base_uri": "https://localhost:8080/"
        },
        "id": "9lzbs9jHhrdi",
        "outputId": "a20b966d-b949-4aea-92c3-c07a8e5c6848"
      },
      "execution_count": null,
      "outputs": [
        {
          "output_type": "stream",
          "name": "stdout",
          "text": [
            "Initial Theta Values\n",
            "tensor([0.], requires_grad=True) tensor([[-0.0020]], requires_grad=True)\n"
          ]
        }
      ]
    },
    {
      "cell_type": "code",
      "source": [
        "# hyper_paramters for training\n",
        "lr = 0.00000005\n",
        "num_epochs = 100\n",
        "net = linreg\n",
        "loss = MSE_loss\n",
        "batch_size = X.shape[0]"
      ],
      "metadata": {
        "id": "jmUeJgGyiOW-"
      },
      "execution_count": null,
      "outputs": []
    },
    {
      "cell_type": "code",
      "source": [
        "# Training the model\n",
        "X,Y = get_data('min_price')\n",
        "loss1 = []\n",
        "for epoch in range(num_epochs):\n",
        "    l = loss(net(X, Theta_1, Theta_0), Y)\n",
        "    l.sum().backward()\n",
        "    sgd([Theta_1, Theta_0], lr, batch_size) # Update parameters using their gradient\n",
        "    with torch.no_grad():\n",
        "      train_l = loss(net(X, Theta_1, Theta_0), Y)\n",
        "      loss1.append(float(train_l.mean()))\n",
        "      print(f'epoch {epoch + 1}, loss {float(train_l.mean()):f}')"
      ],
      "metadata": {
        "colab": {
          "base_uri": "https://localhost:8080/"
        },
        "id": "dp8KQIoukuI7",
        "outputId": "c9e6c067-63e2-445b-de1f-872a927f76df"
      },
      "execution_count": null,
      "outputs": [
        {
          "output_type": "stream",
          "name": "stdout",
          "text": [
            "epoch 1, loss 90114960.000000\n",
            "epoch 2, loss 62960756.000000\n",
            "epoch 3, loss 45629224.000000\n",
            "epoch 4, loss 34567132.000000\n",
            "epoch 5, loss 27506598.000000\n",
            "epoch 6, loss 23000120.000000\n",
            "epoch 7, loss 20123798.000000\n",
            "epoch 8, loss 18287948.000000\n",
            "epoch 9, loss 17116190.000000\n",
            "epoch 10, loss 16368297.000000\n",
            "epoch 11, loss 15890947.000000\n",
            "epoch 12, loss 15586271.000000\n",
            "epoch 13, loss 15391807.000000\n",
            "epoch 14, loss 15267689.000000\n",
            "epoch 15, loss 15188466.000000\n",
            "epoch 16, loss 15137903.000000\n",
            "epoch 17, loss 15105629.000000\n",
            "epoch 18, loss 15085033.000000\n",
            "epoch 19, loss 15071884.000000\n",
            "epoch 20, loss 15063493.000000\n",
            "epoch 21, loss 15058136.000000\n",
            "epoch 22, loss 15054717.000000\n",
            "epoch 23, loss 15052536.000000\n",
            "epoch 24, loss 15051144.000000\n",
            "epoch 25, loss 15050254.000000\n",
            "epoch 26, loss 15049687.000000\n",
            "epoch 27, loss 15049326.000000\n",
            "epoch 28, loss 15049094.000000\n",
            "epoch 29, loss 15048946.000000\n",
            "epoch 30, loss 15048852.000000\n",
            "epoch 31, loss 15048792.000000\n",
            "epoch 32, loss 15048754.000000\n",
            "epoch 33, loss 15048730.000000\n",
            "epoch 34, loss 15048713.000000\n",
            "epoch 35, loss 15048704.000000\n",
            "epoch 36, loss 15048696.000000\n",
            "epoch 37, loss 15048692.000000\n",
            "epoch 38, loss 15048690.000000\n",
            "epoch 39, loss 15048689.000000\n",
            "epoch 40, loss 15048687.000000\n",
            "epoch 41, loss 15048687.000000\n",
            "epoch 42, loss 15048687.000000\n",
            "epoch 43, loss 15048687.000000\n",
            "epoch 44, loss 15048687.000000\n",
            "epoch 45, loss 15048686.000000\n",
            "epoch 46, loss 15048685.000000\n",
            "epoch 47, loss 15048687.000000\n",
            "epoch 48, loss 15048686.000000\n",
            "epoch 49, loss 15048687.000000\n",
            "epoch 50, loss 15048686.000000\n",
            "epoch 51, loss 15048686.000000\n",
            "epoch 52, loss 15048686.000000\n",
            "epoch 53, loss 15048686.000000\n",
            "epoch 54, loss 15048685.000000\n",
            "epoch 55, loss 15048686.000000\n",
            "epoch 56, loss 15048686.000000\n",
            "epoch 57, loss 15048686.000000\n",
            "epoch 58, loss 15048686.000000\n",
            "epoch 59, loss 15048686.000000\n",
            "epoch 60, loss 15048686.000000\n",
            "epoch 61, loss 15048686.000000\n",
            "epoch 62, loss 15048686.000000\n",
            "epoch 63, loss 15048686.000000\n",
            "epoch 64, loss 15048686.000000\n",
            "epoch 65, loss 15048686.000000\n",
            "epoch 66, loss 15048686.000000\n",
            "epoch 67, loss 15048686.000000\n",
            "epoch 68, loss 15048687.000000\n",
            "epoch 69, loss 15048687.000000\n",
            "epoch 70, loss 15048685.000000\n",
            "epoch 71, loss 15048685.000000\n",
            "epoch 72, loss 15048685.000000\n",
            "epoch 73, loss 15048685.000000\n",
            "epoch 74, loss 15048685.000000\n",
            "epoch 75, loss 15048685.000000\n",
            "epoch 76, loss 15048685.000000\n",
            "epoch 77, loss 15048685.000000\n",
            "epoch 78, loss 15048685.000000\n",
            "epoch 79, loss 15048685.000000\n",
            "epoch 80, loss 15048685.000000\n",
            "epoch 81, loss 15048685.000000\n",
            "epoch 82, loss 15048685.000000\n",
            "epoch 83, loss 15048685.000000\n",
            "epoch 84, loss 15048685.000000\n",
            "epoch 85, loss 15048685.000000\n",
            "epoch 86, loss 15048685.000000\n",
            "epoch 87, loss 15048685.000000\n",
            "epoch 88, loss 15048685.000000\n",
            "epoch 89, loss 15048685.000000\n",
            "epoch 90, loss 15048685.000000\n",
            "epoch 91, loss 15048685.000000\n",
            "epoch 92, loss 15048685.000000\n",
            "epoch 93, loss 15048685.000000\n",
            "epoch 94, loss 15048685.000000\n",
            "epoch 95, loss 15048685.000000\n",
            "epoch 96, loss 15048685.000000\n",
            "epoch 97, loss 15048685.000000\n",
            "epoch 98, loss 15048685.000000\n",
            "epoch 99, loss 15048685.000000\n",
            "epoch 100, loss 15048685.000000\n"
          ]
        }
      ]
    },
    {
      "cell_type": "markdown",
      "source": [
        "### TASK 1: Final Weights for min price without scaling"
      ],
      "metadata": {
        "id": "89hWMIXdzY4L"
      }
    },
    {
      "cell_type": "code",
      "source": [
        "print(Theta_1,Theta_0)"
      ],
      "metadata": {
        "colab": {
          "base_uri": "https://localhost:8080/"
        },
        "id": "PiWVLHTLzXuN",
        "outputId": "ee1b76cb-0bb6-411d-bab4-4218c7f7a08b"
      },
      "execution_count": null,
      "outputs": [
        {
          "output_type": "stream",
          "name": "stdout",
          "text": [
            "tensor([[7.6457]], requires_grad=True) tensor([0.0037], requires_grad=True)\n"
          ]
        }
      ]
    },
    {
      "cell_type": "code",
      "source": [
        "y_pred = net(X, Theta_1, Theta_0)"
      ],
      "metadata": {
        "id": "14TORTnblW3F"
      },
      "execution_count": null,
      "outputs": []
    },
    {
      "cell_type": "markdown",
      "source": [
        "### TASK 1: Plotting predictions"
      ],
      "metadata": {
        "id": "dt7cIu3vgjeV"
      }
    },
    {
      "cell_type": "code",
      "source": [
        "# without the missing years\n",
        "plt.scatter(x=X[:, (0)].detach().numpy(),y=Y.detach().numpy(),c='b',s=10, label='Min Price')\n",
        "plt.scatter(x=X[:, (0)].detach().numpy(),y=y_pred.T.detach().numpy(),c='g',s=10, label='Predicted Price')\n",
        "plt.legend()\n",
        "plt.xlabel('Year')\n",
        "plt.ylabel('Price ($)')\n",
        "plt.title('Ford Ranger Min Price over the years')\n",
        "plt.show()"
      ],
      "metadata": {
        "colab": {
          "base_uri": "https://localhost:8080/",
          "height": 295
        },
        "id": "KJUzWSBspJGj",
        "outputId": "74f39c0d-a699-4df8-b716-7eab8eda29f3"
      },
      "execution_count": null,
      "outputs": [
        {
          "output_type": "display_data",
          "data": {
            "text/plain": [
              "<Figure size 432x288 with 1 Axes>"
            ],
            "image/png": "[encoded data removed]"
          },
          "metadata": {
            "needs_background": "light"
          }
        }
      ]
    },
    {
      "cell_type": "code",
      "source": [
        "# Predicting for missing years\n",
        "missing_year = list(range(2012, 2019))\n",
        "X_val = torch.Tensor(missing_year).unsqueeze(dim=1)"
      ],
      "metadata": {
        "id": "AY1_EuiWpVYz"
      },
      "execution_count": null,
      "outputs": []
    },
    {
      "cell_type": "code",
      "source": [
        "Y_val = net(X_val, Theta_1, Theta_0)"
      ],
      "metadata": {
        "id": "h0Y9QN-LtYSL"
      },
      "execution_count": null,
      "outputs": []
    },
    {
      "cell_type": "code",
      "source": [
        "# Plotting along with missing years\n",
        "plt.plot(X[:, (0)].detach().numpy(),y_pred[:,0].T.detach().numpy(),c='g', label='Predicted Price')\n",
        "plt.plot(X_val[:, (0)].detach().numpy(),Y_val[:,0].T.detach().numpy(),c='r', label='Predicted Price for Missing years')\n",
        "plt.scatter(x=X[:, (0)].detach().numpy(),y=Y.detach().numpy(),c='b',s=10, label='Min Price')\n",
        "\n",
        "plt.legend()\n",
        "plt.xlabel('Year')\n",
        "plt.ylabel('Price ($)')\n",
        "plt.title('Ford Ranger Min Price over the missing years')\n",
        "plt.show()"
      ],
      "metadata": {
        "colab": {
          "base_uri": "https://localhost:8080/",
          "height": 349
        },
        "id": "kvkgu0Adw2K7",
        "outputId": "f2c12815-df4a-4ccc-f2a9-14618e580b46"
      },
      "execution_count": null,
      "outputs": [
        {
          "output_type": "stream",
          "name": "stderr",
          "text": [
            "<ipython-input-17-86830b526a58>:2: UserWarning: The use of `x.T` on tensors of dimension other than 2 to reverse their shape is deprecated and it will throw an error in a future release. Consider `x.mT` to transpose batches of matrices or `x.permute(*torch.arange(x.ndim - 1, -1, -1))` to reverse the dimensions of a tensor. (Triggered internally at ../aten/src/ATen/native/TensorShape.cpp:3277.)\n",
            "  plt.plot(X[:, (0)].detach().numpy(),y_pred[:,0].T.detach().numpy(),c='g', label='Predicted Price')\n"
          ]
        },
        {
          "output_type": "display_data",
          "data": {
            "text/plain": [
              "<Figure size 432x288 with 1 Axes>"
            ],
            "image/png": "[encoded data removed]"
          },
          "metadata": {
            "needs_background": "light"
          }
        }
      ]
    },
    {
      "cell_type": "markdown",
      "source": [
        "## MAX Price Prediction without scaling"
      ],
      "metadata": {
        "id": "uJgZGDlQyzEX"
      }
    },
    {
      "cell_type": "code",
      "source": [
        "print(\"Generating Random Theta for Max Price without scaling\\n\")\n",
        "#Theta_1 = torch.randint(5,10,size=(1,1),requires_grad=True,dtype=torch.float32)\n",
        "Theta_1 = torch.normal(0, 0.01, size=(1, 1), requires_grad=True)\n",
        "Theta_0 = torch.zeros(1, requires_grad=True)\n",
        "print(Theta_1, Theta_0)"
      ],
      "metadata": {
        "id": "VU05ScdFxg6K",
        "colab": {
          "base_uri": "https://localhost:8080/"
        },
        "outputId": "b69b5749-cde2-4725-c4ff-7a515c4eddf5"
      },
      "execution_count": null,
      "outputs": [
        {
          "output_type": "stream",
          "name": "stdout",
          "text": [
            "Generating Random Theta for Max Price without scaling\n",
            "\n",
            "tensor([[0.0148]], requires_grad=True) tensor([0.], requires_grad=True)\n"
          ]
        }
      ]
    },
    {
      "cell_type": "code",
      "source": [
        "X,Y = get_data('max_price')"
      ],
      "metadata": {
        "id": "dMyUBUMY00UF"
      },
      "execution_count": null,
      "outputs": []
    },
    {
      "cell_type": "code",
      "source": [
        "# hyper_paramters\n",
        "lr = 0.00000005\n",
        "num_epochs = 100\n",
        "net = linreg\n",
        "loss = MSE_loss\n",
        "batch_size = X.shape[0]"
      ],
      "metadata": {
        "id": "nHFQxz8kzr6T"
      },
      "execution_count": null,
      "outputs": []
    },
    {
      "cell_type": "code",
      "source": [
        "print('Training our model for max price')\n",
        "loss2=[]\n",
        "for epoch in range(num_epochs):\n",
        "    l = loss(net(X, Theta_1, Theta_0), Y)\n",
        "    l.sum().backward()\n",
        "    sgd([Theta_1, Theta_0], lr, batch_size) # Update parameters using their gradient\n",
        "    with torch.no_grad():\n",
        "      train_l = loss(net(X, Theta_1, Theta_0), Y)\n",
        "      loss2.append(float(train_l.mean()))\n",
        "      print(f'epoch {epoch + 1}, loss {float(train_l.mean()):f}')"
      ],
      "metadata": {
        "colab": {
          "base_uri": "https://localhost:8080/"
        },
        "id": "Tcw2SKgZ0Sbo",
        "outputId": "7dc99f3b-7c7c-4c52-d512-550b6d463fae"
      },
      "execution_count": null,
      "outputs": [
        {
          "output_type": "stream",
          "name": "stdout",
          "text": [
            "Training our model for max price\n",
            "epoch 1, loss 240815104.000000\n",
            "epoch 2, loss 163595712.000000\n",
            "epoch 3, loss 114309336.000000\n",
            "epoch 4, loss 82851632.000000\n",
            "epoch 5, loss 62773340.000000\n",
            "epoch 6, loss 49958096.000000\n",
            "epoch 7, loss 41778564.000000\n",
            "epoch 8, loss 36557884.000000\n",
            "epoch 9, loss 33225708.000000\n",
            "epoch 10, loss 31098906.000000\n",
            "epoch 11, loss 29741446.000000\n",
            "epoch 12, loss 28875026.000000\n",
            "epoch 13, loss 28322028.000000\n",
            "epoch 14, loss 27969062.000000\n",
            "epoch 15, loss 27743778.000000\n",
            "epoch 16, loss 27599988.000000\n",
            "epoch 17, loss 27508212.000000\n",
            "epoch 18, loss 27449636.000000\n",
            "epoch 19, loss 27412244.000000\n",
            "epoch 20, loss 27388386.000000\n",
            "epoch 21, loss 27373150.000000\n",
            "epoch 22, loss 27363430.000000\n",
            "epoch 23, loss 27357224.000000\n",
            "epoch 24, loss 27353262.000000\n",
            "epoch 25, loss 27350738.000000\n",
            "epoch 26, loss 27349126.000000\n",
            "epoch 27, loss 27348094.000000\n",
            "epoch 28, loss 27347438.000000\n",
            "epoch 29, loss 27347018.000000\n",
            "epoch 30, loss 27346750.000000\n",
            "epoch 31, loss 27346580.000000\n",
            "epoch 32, loss 27346468.000000\n",
            "epoch 33, loss 27346402.000000\n",
            "epoch 34, loss 27346358.000000\n",
            "epoch 35, loss 27346330.000000\n",
            "epoch 36, loss 27346310.000000\n",
            "epoch 37, loss 27346296.000000\n",
            "epoch 38, loss 27346288.000000\n",
            "epoch 39, loss 27346284.000000\n",
            "epoch 40, loss 27346284.000000\n",
            "epoch 41, loss 27346278.000000\n",
            "epoch 42, loss 27346280.000000\n",
            "epoch 43, loss 27346278.000000\n",
            "epoch 44, loss 27346278.000000\n",
            "epoch 45, loss 27346278.000000\n",
            "epoch 46, loss 27346278.000000\n",
            "epoch 47, loss 27346278.000000\n",
            "epoch 48, loss 27346278.000000\n",
            "epoch 49, loss 27346278.000000\n",
            "epoch 50, loss 27346276.000000\n",
            "epoch 51, loss 27346278.000000\n",
            "epoch 52, loss 27346278.000000\n",
            "epoch 53, loss 27346278.000000\n",
            "epoch 54, loss 27346278.000000\n",
            "epoch 55, loss 27346276.000000\n",
            "epoch 56, loss 27346276.000000\n",
            "epoch 57, loss 27346276.000000\n",
            "epoch 58, loss 27346278.000000\n",
            "epoch 59, loss 27346278.000000\n",
            "epoch 60, loss 27346278.000000\n",
            "epoch 61, loss 27346280.000000\n",
            "epoch 62, loss 27346276.000000\n",
            "epoch 63, loss 27346276.000000\n",
            "epoch 64, loss 27346278.000000\n",
            "epoch 65, loss 27346278.000000\n",
            "epoch 66, loss 27346278.000000\n",
            "epoch 67, loss 27346278.000000\n",
            "epoch 68, loss 27346278.000000\n",
            "epoch 69, loss 27346278.000000\n",
            "epoch 70, loss 27346278.000000\n",
            "epoch 71, loss 27346278.000000\n",
            "epoch 72, loss 27346278.000000\n",
            "epoch 73, loss 27346278.000000\n",
            "epoch 74, loss 27346278.000000\n",
            "epoch 75, loss 27346278.000000\n",
            "epoch 76, loss 27346278.000000\n",
            "epoch 77, loss 27346278.000000\n",
            "epoch 78, loss 27346278.000000\n",
            "epoch 79, loss 27346278.000000\n",
            "epoch 80, loss 27346278.000000\n",
            "epoch 81, loss 27346278.000000\n",
            "epoch 82, loss 27346278.000000\n",
            "epoch 83, loss 27346278.000000\n",
            "epoch 84, loss 27346278.000000\n",
            "epoch 85, loss 27346278.000000\n",
            "epoch 86, loss 27346278.000000\n",
            "epoch 87, loss 27346278.000000\n",
            "epoch 88, loss 27346278.000000\n",
            "epoch 89, loss 27346278.000000\n",
            "epoch 90, loss 27346278.000000\n",
            "epoch 91, loss 27346278.000000\n",
            "epoch 92, loss 27346278.000000\n",
            "epoch 93, loss 27346278.000000\n",
            "epoch 94, loss 27346278.000000\n",
            "epoch 95, loss 27346278.000000\n",
            "epoch 96, loss 27346278.000000\n",
            "epoch 97, loss 27346278.000000\n",
            "epoch 98, loss 27346278.000000\n",
            "epoch 99, loss 27346278.000000\n",
            "epoch 100, loss 27346278.000000\n"
          ]
        }
      ]
    },
    {
      "cell_type": "code",
      "source": [
        "print(\"Final Theta for Max Price without scaling\\n\")\n",
        "print(Theta_1,Theta_0)"
      ],
      "metadata": {
        "colab": {
          "base_uri": "https://localhost:8080/"
        },
        "id": "DUHBlDpc04D_",
        "outputId": "529c590a-4265-4d1b-e5df-2f37c9fb051b"
      },
      "execution_count": null,
      "outputs": [
        {
          "output_type": "stream",
          "name": "stdout",
          "text": [
            "Final Theta for Max Price without scaling\n",
            "\n",
            "tensor([[12.9115]], requires_grad=True) tensor([0.0063], requires_grad=True)\n"
          ]
        }
      ]
    },
    {
      "cell_type": "code",
      "source": [
        "# Predicting Train Data\n",
        "Y_pred = net(X, Theta_1, Theta_0)"
      ],
      "metadata": {
        "id": "zcxP-ssO1_Z_"
      },
      "execution_count": null,
      "outputs": []
    },
    {
      "cell_type": "code",
      "source": [
        "# Plotting over the years without missing data\n",
        "plt.scatter(x=X[:, (0)].detach().numpy(),y=Y.detach().numpy(),c='b',s=10, label='Max Price')\n",
        "plt.scatter(x=X[:, (0)].detach().numpy(),y=Y_pred.T.detach().numpy(),c='g',s=10, label='Predicted Max Price')\n",
        "plt.legend()\n",
        "plt.xlabel('Year')\n",
        "plt.ylabel('Max Price ($)')\n",
        "plt.title('Ford Ranger Max Price over the years')\n",
        "plt.show()"
      ],
      "metadata": {
        "colab": {
          "base_uri": "https://localhost:8080/",
          "height": 295
        },
        "id": "LPBIm-pm2JMm",
        "outputId": "c0282671-a0ea-4b58-db72-7175cc6bec68"
      },
      "execution_count": null,
      "outputs": [
        {
          "output_type": "display_data",
          "data": {
            "text/plain": [
              "<Figure size 432x288 with 1 Axes>"
            ],
            "image/png": "[encoded data removed]"
          },
          "metadata": {
            "needs_background": "light"
          }
        }
      ]
    },
    {
      "cell_type": "code",
      "source": [
        "# Predicting for missing years\n",
        "missing_year = list(range(2012, 2019))\n",
        "X_val = torch.Tensor(missing_year).unsqueeze(dim=1)"
      ],
      "metadata": {
        "id": "YIpRXyMF2QOL"
      },
      "execution_count": null,
      "outputs": []
    },
    {
      "cell_type": "code",
      "source": [
        "Y_val = net(X_val, Theta_1, Theta_0)"
      ],
      "metadata": {
        "id": "qt7S__S12Y4l"
      },
      "execution_count": null,
      "outputs": []
    },
    {
      "cell_type": "code",
      "source": [
        "# Predicting with the missing years\n",
        "plt.plot(X.detach().numpy(),Y_pred.detach().numpy(),c='g', label='Predicted Max Price')\n",
        "plt.plot(X_val.detach().numpy(),Y_val.detach().numpy(),c='r', label='Predicted Max Price for missing years')\n",
        "plt.scatter(x=X[:, (0)].detach().numpy(),y=Y.detach().numpy(),c='b',s=10, label='Max Price')\n",
        "plt.legend()\n",
        "plt.xlabel('Year')\n",
        "plt.ylabel('Price ($)')\n",
        "plt.title('Ford Ranger Max Price along with the missing years')\n",
        "plt.show()"
      ],
      "metadata": {
        "colab": {
          "base_uri": "https://localhost:8080/",
          "height": 295
        },
        "id": "B7bZLYI72c34",
        "outputId": "ec9c8802-8533-4c39-8e5c-737b4bc5585f"
      },
      "execution_count": null,
      "outputs": [
        {
          "output_type": "display_data",
          "data": {
            "text/plain": [
              "<Figure size 432x288 with 1 Axes>"
            ],
            "image/png": "[encoded data removed]"
          },
          "metadata": {
            "needs_background": "light"
          }
        }
      ]
    },
    {
      "cell_type": "markdown",
      "source": [
        "## Loss over 100 iterations for both predictions without scaling"
      ],
      "metadata": {
        "id": "U4yU-Uqz4E3e"
      }
    },
    {
      "cell_type": "code",
      "source": [
        "# Min Price Training Loss\n",
        "plt.plot(list(range(1,101)), loss1, c='r', label='Min Price Training Loss')\n",
        "plt.xlabel('Epoch')\n",
        "plt.ylabel('Training Loss')\n",
        "plt.legend()\n",
        "plt.show()"
      ],
      "metadata": {
        "colab": {
          "base_uri": "https://localhost:8080/",
          "height": 290
        },
        "id": "Es1149BR2rE6",
        "outputId": "d3d7e654-fb53-420c-ab65-43d55318b4a8"
      },
      "execution_count": null,
      "outputs": [
        {
          "output_type": "display_data",
          "data": {
            "text/plain": [
              "<Figure size 432x288 with 1 Axes>"
            ],
            "image/png": "[encoded data removed]"
          },
          "metadata": {
            "needs_background": "light"
          }
        }
      ]
    },
    {
      "cell_type": "code",
      "source": [
        "# Max Price Training Loss\n",
        "plt.plot(list(range(1,101)), loss2, c='b', label='Max Price Training Loss')\n",
        "plt.xlabel('Epoch')\n",
        "plt.ylabel('Training Loss')\n",
        "plt.legend()\n",
        "plt.show()"
      ],
      "metadata": {
        "colab": {
          "base_uri": "https://localhost:8080/",
          "height": 290
        },
        "id": "z6kPC5K34Qb3",
        "outputId": "5fe29c7f-3859-4147-ba4e-231894422861"
      },
      "execution_count": null,
      "outputs": [
        {
          "output_type": "display_data",
          "data": {
            "text/plain": [
              "<Figure size 432x288 with 1 Axes>"
            ],
            "image/png": "[encoded data removed]"
          },
          "metadata": {
            "needs_background": "light"
          }
        }
      ]
    },
    {
      "cell_type": "markdown",
      "source": [
        "## TASK 2: Linear Regression using feature scaling and dynamic learning rate"
      ],
      "metadata": {
        "id": "yKioyq_S6fLO"
      }
    },
    {
      "cell_type": "markdown",
      "source": [
        "## Predicting for Min Price"
      ],
      "metadata": {
        "id": "5BY_kqZm7wKS"
      }
    },
    {
      "cell_type": "code",
      "source": [
        "# get data\n",
        "X_orig,Y_orig = get_data('min_price')"
      ],
      "metadata": {
        "id": "HIX_Uvf67v5W"
      },
      "execution_count": null,
      "outputs": []
    },
    {
      "cell_type": "code",
      "source": [
        "# scaling parameters\n",
        "u = torch.mean(X_orig)\n",
        "s = torch.std(X_orig)"
      ],
      "metadata": {
        "id": "9NvGnJtS9htm"
      },
      "execution_count": null,
      "outputs": []
    },
    {
      "cell_type": "code",
      "source": [
        "# scaling function\n",
        "def scale_x(X,mean,std):\n",
        "  return torch.sub(X, u)/s"
      ],
      "metadata": {
        "id": "4nkvJAIJ7X6f"
      },
      "execution_count": null,
      "outputs": []
    },
    {
      "cell_type": "code",
      "source": [
        "# scaling X with normalisation and Y with 1000\n",
        "X = scale_x(X_orig,u,s)\n",
        "Y = Y_orig/1000"
      ],
      "metadata": {
        "id": "p1kuzn406bEZ"
      },
      "execution_count": null,
      "outputs": []
    },
    {
      "cell_type": "code",
      "source": [
        "print(\"Generating Random Theta for Min Price\\n\")\n",
        "Theta_1 = torch.normal(0, 0.01, size=(1, 1), requires_grad=True)\n",
        "Theta_0 = torch.zeros(1, requires_grad=True)\n",
        "print(\"Initial Thetas: \",Theta_1, Theta_0)"
      ],
      "metadata": {
        "colab": {
          "base_uri": "https://localhost:8080/"
        },
        "id": "57zMCNv08w8G",
        "outputId": "489278d3-cde0-4094-c450-2a7d198714d0"
      },
      "execution_count": null,
      "outputs": [
        {
          "output_type": "stream",
          "name": "stdout",
          "text": [
            "Generating Random Theta for Min Price\n",
            "\n",
            "Initial Thetas:  tensor([[-0.0037]], requires_grad=True) tensor([0.], requires_grad=True)\n"
          ]
        }
      ]
    },
    {
      "cell_type": "code",
      "source": [
        "# hyper_paramters\n",
        "lr = 0.1\n",
        "c = 1000\n",
        "num_epochs = 100\n",
        "net = linreg\n",
        "loss = MSE_loss\n",
        "batch_size = X.shape[0]"
      ],
      "metadata": {
        "id": "vKUVHnbZ9xEe"
      },
      "execution_count": null,
      "outputs": []
    },
    {
      "cell_type": "code",
      "source": [
        "# Training with feature scaling and dynamic learning rate\n",
        "loss1=[]\n",
        "for epoch in range(num_epochs):\n",
        "    l = loss(net(X, Theta_1, Theta_0), Y)\n",
        "    l.sum().backward()\n",
        "    lr = lr*(c/(c+epoch))\n",
        "    sgd([Theta_1, Theta_0], lr, batch_size) # Update parameters using their gradient\n",
        "    with torch.no_grad():\n",
        "      train_l = loss(net(X, Theta_1, Theta_0), Y)\n",
        "      loss1.append(float(train_l.mean()))\n",
        "      print(f'epoch {epoch + 1}, loss {float(train_l.mean()):f}')"
      ],
      "metadata": {
        "colab": {
          "base_uri": "https://localhost:8080/"
        },
        "id": "E1pPaPB6-nUr",
        "outputId": "c257d55e-9b87-4422-d5e5-745e12fcd94f"
      },
      "execution_count": null,
      "outputs": [
        {
          "output_type": "stream",
          "name": "stdout",
          "text": [
            "epoch 1, loss 107.624069\n",
            "epoch 2, loss 87.378601\n",
            "epoch 3, loss 70.991112\n",
            "epoch 4, loss 57.732998\n",
            "epoch 5, loss 47.009666\n",
            "epoch 6, loss 38.337040\n",
            "epoch 7, loss 31.321888\n",
            "epoch 8, loss 25.645403\n",
            "epoch 9, loss 21.049551\n",
            "epoch 10, loss 17.325762\n",
            "epoch 11, loss 14.305686\n",
            "epoch 12, loss 11.853537\n",
            "epoch 13, loss 9.859876\n",
            "epoch 14, loss 8.236556\n",
            "epoch 15, loss 6.912587\n",
            "epoch 16, loss 5.830804\n",
            "epoch 17, loss 4.945168\n",
            "epoch 18, loss 4.218587\n",
            "epoch 19, loss 3.621164\n",
            "epoch 20, loss 3.128779\n",
            "epoch 21, loss 2.721968\n",
            "epoch 22, loss 2.384990\n",
            "epoch 23, loss 2.105119\n",
            "epoch 24, loss 1.872036\n",
            "epoch 25, loss 1.677373\n",
            "epoch 26, loss 1.514330\n",
            "epoch 27, loss 1.377370\n",
            "epoch 28, loss 1.261977\n",
            "epoch 29, loss 1.164462\n",
            "epoch 30, loss 1.081807\n",
            "epoch 31, loss 1.011531\n",
            "epoch 32, loss 0.951600\n",
            "epoch 33, loss 0.900332\n",
            "epoch 34, loss 0.856342\n",
            "epoch 35, loss 0.818482\n",
            "epoch 36, loss 0.785800\n",
            "epoch 37, loss 0.757503\n",
            "epoch 38, loss 0.732931\n",
            "epoch 39, loss 0.711532\n",
            "epoch 40, loss 0.692842\n",
            "epoch 41, loss 0.676473\n",
            "epoch 42, loss 0.662098\n",
            "epoch 43, loss 0.649440\n",
            "epoch 44, loss 0.638264\n",
            "epoch 45, loss 0.628372\n",
            "epoch 46, loss 0.619595\n",
            "epoch 47, loss 0.611790\n",
            "epoch 48, loss 0.604832\n",
            "epoch 49, loss 0.598615\n",
            "epoch 50, loss 0.593050\n",
            "epoch 51, loss 0.588057\n",
            "epoch 52, loss 0.583568\n",
            "epoch 53, loss 0.579527\n",
            "epoch 54, loss 0.575880\n",
            "epoch 55, loss 0.572585\n",
            "epoch 56, loss 0.569603\n",
            "epoch 57, loss 0.566900\n",
            "epoch 58, loss 0.564446\n",
            "epoch 59, loss 0.562215\n",
            "epoch 60, loss 0.560186\n",
            "epoch 61, loss 0.558336\n",
            "epoch 62, loss 0.556650\n",
            "epoch 63, loss 0.555110\n",
            "epoch 64, loss 0.553703\n",
            "epoch 65, loss 0.552416\n",
            "epoch 66, loss 0.551239\n",
            "epoch 67, loss 0.550161\n",
            "epoch 68, loss 0.549173\n",
            "epoch 69, loss 0.548268\n",
            "epoch 70, loss 0.547437\n",
            "epoch 71, loss 0.546675\n",
            "epoch 72, loss 0.545976\n",
            "epoch 73, loss 0.545334\n",
            "epoch 74, loss 0.544745\n",
            "epoch 75, loss 0.544204\n",
            "epoch 76, loss 0.543707\n",
            "epoch 77, loss 0.543251\n",
            "epoch 78, loss 0.542833\n",
            "epoch 79, loss 0.542448\n",
            "epoch 80, loss 0.542096\n",
            "epoch 81, loss 0.541772\n",
            "epoch 82, loss 0.541475\n",
            "epoch 83, loss 0.541203\n",
            "epoch 84, loss 0.540953\n",
            "epoch 85, loss 0.540725\n",
            "epoch 86, loss 0.540515\n",
            "epoch 87, loss 0.540323\n",
            "epoch 88, loss 0.540147\n",
            "epoch 89, loss 0.539987\n",
            "epoch 90, loss 0.539840\n",
            "epoch 91, loss 0.539705\n",
            "epoch 92, loss 0.539582\n",
            "epoch 93, loss 0.539471\n",
            "epoch 94, loss 0.539369\n",
            "epoch 95, loss 0.539275\n",
            "epoch 96, loss 0.539191\n",
            "epoch 97, loss 0.539114\n",
            "epoch 98, loss 0.539043\n",
            "epoch 99, loss 0.538980\n",
            "epoch 100, loss 0.538922\n"
          ]
        }
      ]
    },
    {
      "cell_type": "code",
      "source": [
        "print(\"Final Theta for Min Price with Scaling\\n\")\n",
        "\n",
        "print(Theta_1,Theta_0)"
      ],
      "metadata": {
        "colab": {
          "base_uri": "https://localhost:8080/"
        },
        "id": "ms2hjnCg_eUH",
        "outputId": "12021b40-1ebb-47c7-fc75-20b4930d27bb"
      },
      "execution_count": null,
      "outputs": [
        {
          "output_type": "stream",
          "name": "stdout",
          "text": [
            "Final Theta for Min Price with Scaling\n",
            "\n",
            "tensor([[5.4721]], requires_grad=True) tensor([15.0635], requires_grad=True)\n"
          ]
        }
      ]
    },
    {
      "cell_type": "code",
      "source": [
        "# Predicting Train Data\n",
        "Y_pred = net(X, Theta_1, Theta_0)"
      ],
      "metadata": {
        "id": "tc-VbVUl_5aF"
      },
      "execution_count": null,
      "outputs": []
    },
    {
      "cell_type": "code",
      "source": [
        "# Plotting without the missing years\n",
        "plt.scatter(x=X_orig[:, (0)].detach().numpy(),y=Y.detach().numpy(),c='b',s=10, label='Min Price')\n",
        "plt.scatter(x=X_orig[:, (0)].detach().numpy(),y=Y_pred.T.detach().numpy(),c='g',s=10, label='Predicted Min Price')\n",
        "plt.legend()\n",
        "plt.xlabel('Year')\n",
        "plt.ylabel('Min Price in 1000($)')\n",
        "plt.title('Ford Ranger Min Price over the years')\n",
        "plt.show()"
      ],
      "metadata": {
        "colab": {
          "base_uri": "https://localhost:8080/",
          "height": 295
        },
        "id": "XSzYeyQ0ACgO",
        "outputId": "2f489042-b172-4ed8-ba1a-1ca3bc913260"
      },
      "execution_count": null,
      "outputs": [
        {
          "output_type": "display_data",
          "data": {
            "text/plain": [
              "<Figure size 432x288 with 1 Axes>"
            ],
            "image/png": "[encoded data removed]"
          },
          "metadata": {
            "needs_background": "light"
          }
        }
      ]
    },
    {
      "cell_type": "code",
      "source": [
        "# Predicting for missing years\n",
        "missing_year = list(range(2012, 2019))\n",
        "X_val_orig =torch.Tensor(missing_year).unsqueeze(dim=1)\n",
        "X_val = scale_x(X_val_orig,u,s)\n",
        "Y_val = net(X_val, Theta_1, Theta_0)"
      ],
      "metadata": {
        "id": "PaQqStNXmGbu"
      },
      "execution_count": null,
      "outputs": []
    },
    {
      "cell_type": "code",
      "source": [
        "# Predicting with the missing years\n",
        "plt.plot(X_orig[:, (0)].detach().numpy(),Y_pred.detach().numpy(),c='g', label='Predicted Min Price')\n",
        "plt.plot(X_val_orig[:,0].detach().numpy(),Y_val.detach().numpy(),c='r', label='Predicted Min Price for missing years')\n",
        "plt.scatter(x=X_orig[:, (0)].detach().numpy(),y=Y.detach().numpy(),c='b',s=10, label='Min Price')\n",
        "plt.legend()\n",
        "plt.xlabel('Year')\n",
        "plt.ylabel('Min Price in 1000($)')\n",
        "plt.title('Ford Ranger Min Price along with the missing years')\n",
        "plt.show()"
      ],
      "metadata": {
        "colab": {
          "base_uri": "https://localhost:8080/",
          "height": 295
        },
        "id": "s-Awp90tmPS_",
        "outputId": "4cb24165-b27a-49c9-f198-0c042c4d866a"
      },
      "execution_count": null,
      "outputs": [
        {
          "output_type": "display_data",
          "data": {
            "text/plain": [
              "<Figure size 432x288 with 1 Axes>"
            ],
            "image/png": "[encoded data removed]"
          },
          "metadata": {
            "needs_background": "light"
          }
        }
      ]
    },
    {
      "cell_type": "code",
      "source": [
        "# Predicting Min Price for 2024 using the better model\n",
        "missing_year = list(range(2024, 2025))\n",
        "X_val_orig =torch.Tensor(missing_year).unsqueeze(dim=1)\n",
        "X_val = scale_x(X_val_orig,u,s)\n",
        "Y_val= net(X_val, Theta_1, Theta_0)\n",
        "print(\"Min Price Predicted for 2024 is \", Y_val[0,0].detach().numpy()*1000,\"$\")"
      ],
      "metadata": {
        "colab": {
          "base_uri": "https://localhost:8080/"
        },
        "id": "PcLGFNC1rWRt",
        "outputId": "b025099b-b7b7-4108-89af-c88d4126b66a"
      },
      "execution_count": null,
      "outputs": [
        {
          "output_type": "stream",
          "name": "stdout",
          "text": [
            "Min Price Predicted for 2024 is  25703.882217407227 $\n"
          ]
        }
      ]
    },
    {
      "cell_type": "markdown",
      "source": [
        "## Predicting Max Price"
      ],
      "metadata": {
        "id": "BI1CDrk1IyKa"
      }
    },
    {
      "cell_type": "code",
      "source": [
        "X_orig,Y_orig = get_data('max_price')"
      ],
      "metadata": {
        "id": "pSEqlRSoIx8B"
      },
      "execution_count": null,
      "outputs": []
    },
    {
      "cell_type": "code",
      "source": [
        "# scaling parameters\n",
        "u = torch.mean(X_orig)\n",
        "s = torch.std(X_orig)"
      ],
      "metadata": {
        "id": "Asdld2MLAFBY"
      },
      "execution_count": null,
      "outputs": []
    },
    {
      "cell_type": "code",
      "source": [
        "X = scale_x(X_orig,u,s)\n",
        "Y = Y_orig/1000"
      ],
      "metadata": {
        "id": "sFUhDadPJdal"
      },
      "execution_count": null,
      "outputs": []
    },
    {
      "cell_type": "code",
      "source": [
        "print(\"Generating Random Theta for Max Price\\n\")\n",
        "Theta_1 = torch.normal(0, 0.01, size=(1, 1), requires_grad=True)\n",
        "Theta_0 = torch.zeros(1, requires_grad=True)\n",
        "print(\"Initial Values: \", Theta_1, Theta_0)"
      ],
      "metadata": {
        "colab": {
          "base_uri": "https://localhost:8080/"
        },
        "id": "KwXEUsncJfmV",
        "outputId": "2ced75c3-387c-417f-ee2d-8cd136c06288"
      },
      "execution_count": null,
      "outputs": [
        {
          "output_type": "stream",
          "name": "stdout",
          "text": [
            "Generating Random Theta for Max Price\n",
            "\n",
            "Initial Values:  tensor([[-0.0047]], requires_grad=True) tensor([0.], requires_grad=True)\n"
          ]
        }
      ]
    },
    {
      "cell_type": "code",
      "source": [
        "# hyper_paramters\n",
        "lr = 0.1\n",
        "c = 2000\n",
        "num_epochs = 100\n",
        "net = linreg\n",
        "loss = MSE_loss\n",
        "batch_size = X.shape[0]"
      ],
      "metadata": {
        "id": "gsktXYJHKIrs"
      },
      "execution_count": null,
      "outputs": []
    },
    {
      "cell_type": "code",
      "source": [
        "# Training our model for Max Price\n",
        "loss2=[]\n",
        "for epoch in range(num_epochs):\n",
        "    l = loss(net(X, Theta_1, Theta_0), Y)\n",
        "    l.sum().backward()\n",
        "    lr = lr*(c/(c+epoch))\n",
        "    sgd([Theta_1, Theta_0], lr, batch_size) # Update parameters using their gradient\n",
        "    with torch.no_grad():\n",
        "      train_l = loss(net(X, Theta_1, Theta_0), Y)\n",
        "      loss2.append(float(train_l.mean()))\n",
        "      print(f'epoch {epoch + 1}, loss {float(train_l.mean()):f}')"
      ],
      "metadata": {
        "colab": {
          "base_uri": "https://localhost:8080/"
        },
        "id": "h7ldIKz2KN7l",
        "outputId": "788fc3ca-e163-4181-8076-00005614749f"
      },
      "execution_count": null,
      "outputs": [
        {
          "output_type": "stream",
          "name": "stdout",
          "text": [
            "epoch 1, loss 294.263977\n",
            "epoch 2, loss 238.901169\n",
            "epoch 3, loss 194.066422\n",
            "epoch 4, loss 157.766647\n",
            "epoch 5, loss 128.381088\n",
            "epoch 6, loss 104.593414\n",
            "epoch 7, loss 85.335686\n",
            "epoch 8, loss 69.742287\n",
            "epoch 9, loss 57.112255\n",
            "epoch 10, loss 46.878326\n",
            "epoch 11, loss 38.581745\n",
            "epoch 12, loss 31.851679\n",
            "epoch 13, loss 26.388487\n",
            "epoch 14, loss 21.950123\n",
            "epoch 15, loss 18.341101\n",
            "epoch 16, loss 15.403535\n",
            "epoch 17, loss 13.009895\n",
            "epoch 18, loss 11.057185\n",
            "epoch 19, loss 9.462167\n",
            "epoch 20, loss 8.157570\n",
            "epoch 21, loss 7.088997\n",
            "epoch 22, loss 6.212427\n",
            "epoch 23, loss 5.492231\n",
            "epoch 24, loss 4.899538\n",
            "epoch 25, loss 4.410933\n",
            "epoch 26, loss 4.007422\n",
            "epoch 27, loss 3.673570\n",
            "epoch 28, loss 3.396826\n",
            "epoch 29, loss 3.166970\n",
            "epoch 30, loss 2.975680\n",
            "epoch 31, loss 2.816154\n",
            "epoch 32, loss 2.682837\n",
            "epoch 33, loss 2.571188\n",
            "epoch 34, loss 2.477477\n",
            "epoch 35, loss 2.398652\n",
            "epoch 36, loss 2.332196\n",
            "epoch 37, loss 2.276042\n",
            "epoch 38, loss 2.228485\n",
            "epoch 39, loss 2.188115\n",
            "epoch 40, loss 2.153765\n",
            "epoch 41, loss 2.124470\n",
            "epoch 42, loss 2.099426\n",
            "epoch 43, loss 2.077966\n",
            "epoch 44, loss 2.059534\n",
            "epoch 45, loss 2.043663\n",
            "epoch 46, loss 2.029966\n",
            "epoch 47, loss 2.018119\n",
            "epoch 48, loss 2.007845\n",
            "epoch 49, loss 1.998916\n",
            "epoch 50, loss 1.991137\n",
            "epoch 51, loss 1.984345\n",
            "epoch 52, loss 1.978399\n",
            "epoch 53, loss 1.973184\n",
            "epoch 54, loss 1.968599\n",
            "epoch 55, loss 1.964558\n",
            "epoch 56, loss 1.960990\n",
            "epoch 57, loss 1.957832\n",
            "epoch 58, loss 1.955030\n",
            "epoch 59, loss 1.952541\n",
            "epoch 60, loss 1.950322\n",
            "epoch 61, loss 1.948343\n",
            "epoch 62, loss 1.946572\n",
            "epoch 63, loss 1.944985\n",
            "epoch 64, loss 1.943560\n",
            "epoch 65, loss 1.942278\n",
            "epoch 66, loss 1.941123\n",
            "epoch 67, loss 1.940079\n",
            "epoch 68, loss 1.939136\n",
            "epoch 69, loss 1.938280\n",
            "epoch 70, loss 1.937504\n",
            "epoch 71, loss 1.936799\n",
            "epoch 72, loss 1.936155\n",
            "epoch 73, loss 1.935569\n",
            "epoch 74, loss 1.935034\n",
            "epoch 75, loss 1.934544\n",
            "epoch 76, loss 1.934095\n",
            "epoch 77, loss 1.933684\n",
            "epoch 78, loss 1.933304\n",
            "epoch 79, loss 1.932957\n",
            "epoch 80, loss 1.932636\n",
            "epoch 81, loss 1.932340\n",
            "epoch 82, loss 1.932068\n",
            "epoch 83, loss 1.931816\n",
            "epoch 84, loss 1.931583\n",
            "epoch 85, loss 1.931367\n",
            "epoch 86, loss 1.931167\n",
            "epoch 87, loss 1.930981\n",
            "epoch 88, loss 1.930809\n",
            "epoch 89, loss 1.930648\n",
            "epoch 90, loss 1.930499\n",
            "epoch 91, loss 1.930360\n",
            "epoch 92, loss 1.930231\n",
            "epoch 93, loss 1.930110\n",
            "epoch 94, loss 1.929998\n",
            "epoch 95, loss 1.929892\n",
            "epoch 96, loss 1.929794\n",
            "epoch 97, loss 1.929702\n",
            "epoch 98, loss 1.929617\n",
            "epoch 99, loss 1.929537\n",
            "epoch 100, loss 1.929463\n"
          ]
        }
      ]
    },
    {
      "cell_type": "code",
      "source": [
        "print(\"Final Theta for Max Price scaling\\n\")\n",
        "\n",
        "print(Theta_1,Theta_0)"
      ],
      "metadata": {
        "colab": {
          "base_uri": "https://localhost:8080/"
        },
        "id": "VSZ0nSiQKWS9",
        "outputId": "ccfb761d-2fd4-4644-a54b-826ec90ecb12"
      },
      "execution_count": null,
      "outputs": [
        {
          "output_type": "stream",
          "name": "stdout",
          "text": [
            "Final Theta for Max Price scaling\n",
            "\n",
            "tensor([[7.3693]], requires_grad=True) tensor([25.7726], requires_grad=True)\n"
          ]
        }
      ]
    },
    {
      "cell_type": "code",
      "source": [
        "# Predicting Train Data\n",
        "Y_pred = net(X, Theta_1, Theta_0)"
      ],
      "metadata": {
        "id": "gBDYo22yKZUN"
      },
      "execution_count": null,
      "outputs": []
    },
    {
      "cell_type": "code",
      "source": [
        "# Plotting without the missing year\n",
        "plt.scatter(x=X_orig[:, (0)].detach().numpy(),y=Y.detach().numpy(),c='b',s=10, label='Max Price')\n",
        "plt.scatter(x=X_orig[:, (0)].detach().numpy(),y=Y_pred.T.detach().numpy(),c='g',s=10, label='Predicted Max Price')\n",
        "plt.legend()\n",
        "plt.xlabel('Year')\n",
        "plt.ylabel('Max Price in 1000($)')\n",
        "plt.title('Ford Ranger Max Price over the years')\n",
        "plt.show()"
      ],
      "metadata": {
        "colab": {
          "base_uri": "https://localhost:8080/",
          "height": 295
        },
        "id": "QIhFXcNYKdA_",
        "outputId": "96fdf0a7-3e6b-4850-b9c1-d14f4d0bc575"
      },
      "execution_count": null,
      "outputs": [
        {
          "output_type": "display_data",
          "data": {
            "text/plain": [
              "<Figure size 432x288 with 1 Axes>"
            ],
            "image/png": "[encoded data removed]"
          },
          "metadata": {
            "needs_background": "light"
          }
        }
      ]
    },
    {
      "cell_type": "code",
      "source": [
        "# Predicting for missing years\n",
        "missing_year = list(range(2012, 2019))\n",
        "X_val_orig =torch.Tensor(missing_year).unsqueeze(dim=1)\n",
        "X_val = scale_x(X_val_orig,u,s)\n",
        "Y_val = net(X_val, Theta_1, Theta_0)"
      ],
      "metadata": {
        "id": "NwqY02Ddo1Ko"
      },
      "execution_count": null,
      "outputs": []
    },
    {
      "cell_type": "code",
      "source": [
        "# Predicting with the missing years\n",
        "plt.plot(X_orig[:, (0)].detach().numpy(),Y_pred.detach().numpy(),c='g', label='Predicted Max Price')\n",
        "plt.plot(X_val_orig[:,0].detach().numpy(),Y_val.detach().numpy(),c='r', label='Predicted Max Price for missing years')\n",
        "plt.scatter(x=X_orig[:, (0)].detach().numpy(),y=Y.detach().numpy(),c='b',s=10, label='Max Price')\n",
        "plt.legend()\n",
        "plt.xlabel('Year')\n",
        "plt.ylabel('Max Price in 1000($)')\n",
        "plt.title('Ford Ranger Max Price along with the missing years')\n",
        "plt.show()"
      ],
      "metadata": {
        "colab": {
          "base_uri": "https://localhost:8080/",
          "height": 295
        },
        "id": "7vV8_Z3MpMM2",
        "outputId": "3b21aab7-12b7-4c90-b1ab-ae7489803ca4"
      },
      "execution_count": null,
      "outputs": [
        {
          "output_type": "display_data",
          "data": {
            "text/plain": [
              "<Figure size 432x288 with 1 Axes>"
            ],
            "image/png": "[encoded data removed]"
          },
          "metadata": {
            "needs_background": "light"
          }
        }
      ]
    },
    {
      "cell_type": "markdown",
      "source": [
        "### Training Loss Curve After Scaling and Dynamic Learning Rate"
      ],
      "metadata": {
        "id": "OaL_9eWcpUbt"
      }
    },
    {
      "cell_type": "code",
      "source": [
        "# Training loss curve for min price\n",
        "plt.plot(list(range(1,101)), loss1, c='r', label='Min Price Training Loss')\n",
        "plt.xlabel('Epoch')\n",
        "plt.ylabel('Training Loss')\n",
        "plt.legend()\n",
        "plt.show()"
      ],
      "metadata": {
        "colab": {
          "base_uri": "https://localhost:8080/",
          "height": 279
        },
        "id": "NY656RHUKgMy",
        "outputId": "3830aa2b-b570-4340-ddad-ff24b6233505"
      },
      "execution_count": null,
      "outputs": [
        {
          "output_type": "display_data",
          "data": {
            "text/plain": [
              "<Figure size 432x288 with 1 Axes>"
            ],
            "image/png": "[encoded data removed]"
          },
          "metadata": {
            "needs_background": "light"
          }
        }
      ]
    },
    {
      "cell_type": "code",
      "source": [
        "# Training loss curve for max price\n",
        "plt.plot(list(range(1,101)), loss2, c='b', label='Max Price Training Loss')\n",
        "plt.xlabel('Epoch')\n",
        "plt.ylabel('Training Loss')\n",
        "plt.legend()\n",
        "plt.show()"
      ],
      "metadata": {
        "colab": {
          "base_uri": "https://localhost:8080/",
          "height": 279
        },
        "id": "ddpjtw4EL0Jh",
        "outputId": "f88de2ce-a2f5-4221-d265-4aa69a84ac2c"
      },
      "execution_count": null,
      "outputs": [
        {
          "output_type": "display_data",
          "data": {
            "text/plain": [
              "<Figure size 432x288 with 1 Axes>"
            ],
            "image/png": "[encoded data removed]"
          },
          "metadata": {
            "needs_background": "light"
          }
        }
      ]
    },
    {
      "cell_type": "code",
      "source": [
        "# Predicting Max Price for 2024 using the better model\n",
        "missing_year = list(range(2024, 2025))\n",
        "X_val_orig =torch.Tensor(missing_year).unsqueeze(dim=1)\n",
        "X_val = scale_x(X_val_orig,u,s)\n",
        "Y_val = net(X_val, Theta_1, Theta_0)\n",
        "print(\"Max Price Predicted for 2024 is \", Y_val[0,0].detach().numpy()*1000,\"$\")"
      ],
      "metadata": {
        "colab": {
          "base_uri": "https://localhost:8080/"
        },
        "id": "5L2cCzLtqV1U",
        "outputId": "4aff52f6-ae5e-4be0-aa2f-78f29017660c"
      },
      "execution_count": null,
      "outputs": [
        {
          "output_type": "stream",
          "name": "stdout",
          "text": [
            "Max Price Predicted for 2024 is  40102.09655761719 $\n"
          ]
        }
      ]
    },
    {
      "cell_type": "markdown",
      "source": [
        "## Question 5:\n",
        "1. What is the price range of next generation Ranger predicted by your program (For 2024)?\n",
        "- The price range for Ford Ranger 2024 is `$25703.54 to $40102.18`.\n",
        "\n",
        "2. What are final values of Theta after training?\n",
        "- For Min Price the theta are:\n",
        "`tensor([[5.4720]], requires_grad=True) tensor([15.0635], requires_grad=True)`\n",
        "\n",
        "- For Max Price the theta are:\n",
        "`tensor([[7.3694]], requires_grad=True) tensor([25.7726], requires_grad=True)`\n",
        "\n",
        "\n",
        "3. What is your thought on your model?\n",
        "- I think that simple linear regression model with scaling is performing good.\n",
        "\n",
        "4. How can you improve it? Comparison of performance?\n",
        "- It can be improved by taking into consideration other features as well economic inflation rate increment each year.\n",
        "\n",
        "5. Will you buy a next generation Ranger at that price?\n",
        "- No, I would buy different car at this budget."
      ],
      "metadata": {
        "id": "2thcUGe1p_Ee"
      }
    },
    {
      "cell_type": "code",
      "source": [],
      "metadata": {
        "id": "Y9fDmFEbL5iC"
      },
      "execution_count": null,
      "outputs": []
    }
  ]
}